{
 "cells": [
  {
   "cell_type": "code",
   "execution_count": 37,
   "metadata": {
    "execution": {
     "iopub.execute_input": "2024-12-23T19:59:03.319428Z",
     "iopub.status.busy": "2024-12-23T19:59:03.319169Z",
     "iopub.status.idle": "2024-12-23T19:59:06.705542Z",
     "shell.execute_reply": "2024-12-23T19:59:06.704860Z",
     "shell.execute_reply.started": "2024-12-23T19:59:03.319391Z"
    }
   },
   "outputs": [],
   "source": [
    "import pandas as pd\n",
    "import numpy as np\n",
    "import re\n",
    "import string\n",
    "from sklearn.model_selection import train_test_split\n",
    "from sklearn.preprocessing import LabelEncoder\n",
    "from nltk.corpus import stopwords\n",
    "from nltk.tokenize import word_tokenize\n",
    "from nltk.stem import WordNetLemmatizer\n",
    "from nltk.stem.porter import PorterStemmer\n",
    "import nltk\n",
    "from sklearn.feature_extraction.text import CountVectorizer"
   ]
  },
  {
   "cell_type": "code",
   "execution_count": 2,
   "metadata": {
    "execution": {
     "iopub.execute_input": "2024-12-23T20:01:11.948404Z",
     "iopub.status.busy": "2024-12-23T20:01:11.948077Z",
     "iopub.status.idle": "2024-12-23T20:01:12.365174Z",
     "shell.execute_reply": "2024-12-23T20:01:12.364433Z",
     "shell.execute_reply.started": "2024-12-23T20:01:11.948376Z"
    }
   },
   "outputs": [
    {
     "name": "stderr",
     "output_type": "stream",
     "text": [
      "[nltk_data] Downloading package punkt to C:\\Users\\IT\n",
      "[nltk_data]     SHOP\\AppData\\Roaming\\nltk_data...\n",
      "[nltk_data]   Package punkt is already up-to-date!\n",
      "[nltk_data] Downloading package wordnet to C:\\Users\\IT\n",
      "[nltk_data]     SHOP\\AppData\\Roaming\\nltk_data...\n",
      "[nltk_data]   Package wordnet is already up-to-date!\n",
      "[nltk_data] Downloading package stopwords to C:\\Users\\IT\n",
      "[nltk_data]     SHOP\\AppData\\Roaming\\nltk_data...\n",
      "[nltk_data]   Package stopwords is already up-to-date!\n"
     ]
    },
    {
     "data": {
      "text/plain": [
       "True"
      ]
     },
     "execution_count": 2,
     "metadata": {},
     "output_type": "execute_result"
    }
   ],
   "source": [
    "nltk.download('punkt')\n",
    "nltk.download('wordnet')\n",
    "nltk.download('stopwords')"
   ]
  },
  {
   "cell_type": "code",
   "execution_count": 3,
   "metadata": {
    "execution": {
     "iopub.execute_input": "2024-12-23T20:01:32.740215Z",
     "iopub.status.busy": "2024-12-23T20:01:32.739931Z",
     "iopub.status.idle": "2024-12-23T20:01:40.700364Z",
     "shell.execute_reply": "2024-12-23T20:01:40.699444Z",
     "shell.execute_reply.started": "2024-12-23T20:01:32.740193Z"
    }
   },
   "outputs": [],
   "source": [
    "df = pd.read_csv('Amazon Customer Reviews.csv')"
   ]
  },
  {
   "cell_type": "code",
   "execution_count": 4,
   "metadata": {
    "execution": {
     "iopub.execute_input": "2024-12-23T20:01:43.122784Z",
     "iopub.status.busy": "2024-12-23T20:01:43.122497Z",
     "iopub.status.idle": "2024-12-23T20:01:43.137945Z",
     "shell.execute_reply": "2024-12-23T20:01:43.137095Z",
     "shell.execute_reply.started": "2024-12-23T20:01:43.122763Z"
    }
   },
   "outputs": [
    {
     "name": "stdout",
     "output_type": "stream",
     "text": [
      "   Id   ProductId          UserId                      ProfileName  \\\n",
      "0   1  B001E4KFG0  A3SGXH7AUHU8GW                       delmartian   \n",
      "1   2  B00813GRG4  A1D87F6ZCVE5NK                           dll pa   \n",
      "2   3  B000LQOCH0   ABXLMWJIXXAIN  Natalia Corres \"Natalia Corres\"   \n",
      "3   4  B000UA0QIQ  A395BORC6FGVXV                             Karl   \n",
      "4   5  B006K2ZZ7K  A1UQRSCLF8GW1T    Michael D. Bigham \"M. Wassir\"   \n",
      "\n",
      "   HelpfulnessNumerator  HelpfulnessDenominator  Score        Time  \\\n",
      "0                     1                       1      5  1303862400   \n",
      "1                     0                       0      1  1346976000   \n",
      "2                     1                       1      4  1219017600   \n",
      "3                     3                       3      2  1307923200   \n",
      "4                     0                       0      5  1350777600   \n",
      "\n",
      "                 Summary                                               Text  \n",
      "0  Good Quality Dog Food  I have bought several of the Vitality canned d...  \n",
      "1      Not as Advertised  Product arrived labeled as Jumbo Salted Peanut...  \n",
      "2  \"Delight\" says it all  This is a confection that has been around a fe...  \n",
      "3         Cough Medicine  If you are looking for the secret ingredient i...  \n",
      "4            Great taffy  Great taffy at a great price.  There was a wid...  \n"
     ]
    }
   ],
   "source": [
    "print(df.head())"
   ]
  },
  {
   "cell_type": "code",
   "execution_count": 5,
   "metadata": {
    "execution": {
     "iopub.execute_input": "2024-12-23T20:01:45.002398Z",
     "iopub.status.busy": "2024-12-23T20:01:45.002118Z",
     "iopub.status.idle": "2024-12-23T20:01:45.166318Z",
     "shell.execute_reply": "2024-12-23T20:01:45.165493Z",
     "shell.execute_reply.started": "2024-12-23T20:01:45.002378Z"
    }
   },
   "outputs": [
    {
     "data": {
      "text/plain": [
       "Id                        False\n",
       "ProductId                 False\n",
       "UserId                    False\n",
       "ProfileName                True\n",
       "HelpfulnessNumerator      False\n",
       "HelpfulnessDenominator    False\n",
       "Score                     False\n",
       "Time                      False\n",
       "Summary                    True\n",
       "Text                      False\n",
       "dtype: bool"
      ]
     },
     "execution_count": 5,
     "metadata": {},
     "output_type": "execute_result"
    }
   ],
   "source": [
    "df.isnull().any()"
   ]
  },
  {
   "cell_type": "code",
   "execution_count": 6,
   "metadata": {
    "execution": {
     "iopub.execute_input": "2024-12-23T20:01:46.183187Z",
     "iopub.status.busy": "2024-12-23T20:01:46.182935Z",
     "iopub.status.idle": "2024-12-23T20:01:46.345172Z",
     "shell.execute_reply": "2024-12-23T20:01:46.344422Z",
     "shell.execute_reply.started": "2024-12-23T20:01:46.183168Z"
    }
   },
   "outputs": [],
   "source": [
    "df.dropna(subset=['ProfileName', 'Summary'], inplace=True)"
   ]
  },
  {
   "cell_type": "code",
   "execution_count": 7,
   "metadata": {
    "execution": {
     "iopub.execute_input": "2024-12-23T20:01:47.857066Z",
     "iopub.status.busy": "2024-12-23T20:01:47.856793Z",
     "iopub.status.idle": "2024-12-23T20:01:48.803142Z",
     "shell.execute_reply": "2024-12-23T20:01:48.802251Z",
     "shell.execute_reply.started": "2024-12-23T20:01:47.857043Z"
    }
   },
   "outputs": [
    {
     "data": {
      "text/plain": [
       "0"
      ]
     },
     "execution_count": 7,
     "metadata": {},
     "output_type": "execute_result"
    }
   ],
   "source": [
    "df.duplicated().sum()"
   ]
  },
  {
   "cell_type": "code",
   "execution_count": 4,
   "metadata": {
    "execution": {
     "iopub.execute_input": "2024-12-23T20:01:49.751409Z",
     "iopub.status.busy": "2024-12-23T20:01:49.751143Z",
     "iopub.status.idle": "2024-12-23T20:01:49.757408Z",
     "shell.execute_reply": "2024-12-23T20:01:49.756509Z",
     "shell.execute_reply.started": "2024-12-23T20:01:49.751388Z"
    }
   },
   "outputs": [],
   "source": [
    "del df['Id']\n",
    "del df['ProductId']\n",
    "del df['UserId']\n",
    "del df['ProfileName']\n",
    "del df['HelpfulnessNumerator']\n",
    "del df['HelpfulnessDenominator']\n",
    "del df['Time']\n",
    "del df['Summary']"
   ]
  },
  {
   "cell_type": "code",
   "execution_count": 5,
   "metadata": {
    "execution": {
     "iopub.execute_input": "2024-12-23T20:01:50.641891Z",
     "iopub.status.busy": "2024-12-23T20:01:50.641605Z",
     "iopub.status.idle": "2024-12-23T20:01:50.651315Z",
     "shell.execute_reply": "2024-12-23T20:01:50.650616Z",
     "shell.execute_reply.started": "2024-12-23T20:01:50.641868Z"
    }
   },
   "outputs": [
    {
     "data": {
      "text/html": [
       "<div>\n",
       "<style scoped>\n",
       "    .dataframe tbody tr th:only-of-type {\n",
       "        vertical-align: middle;\n",
       "    }\n",
       "\n",
       "    .dataframe tbody tr th {\n",
       "        vertical-align: top;\n",
       "    }\n",
       "\n",
       "    .dataframe thead th {\n",
       "        text-align: right;\n",
       "    }\n",
       "</style>\n",
       "<table border=\"1\" class=\"dataframe\">\n",
       "  <thead>\n",
       "    <tr style=\"text-align: right;\">\n",
       "      <th></th>\n",
       "      <th>Score</th>\n",
       "      <th>Text</th>\n",
       "    </tr>\n",
       "  </thead>\n",
       "  <tbody>\n",
       "    <tr>\n",
       "      <th>0</th>\n",
       "      <td>5</td>\n",
       "      <td>I have bought several of the Vitality canned d...</td>\n",
       "    </tr>\n",
       "    <tr>\n",
       "      <th>1</th>\n",
       "      <td>1</td>\n",
       "      <td>Product arrived labeled as Jumbo Salted Peanut...</td>\n",
       "    </tr>\n",
       "    <tr>\n",
       "      <th>2</th>\n",
       "      <td>4</td>\n",
       "      <td>This is a confection that has been around a fe...</td>\n",
       "    </tr>\n",
       "    <tr>\n",
       "      <th>3</th>\n",
       "      <td>2</td>\n",
       "      <td>If you are looking for the secret ingredient i...</td>\n",
       "    </tr>\n",
       "    <tr>\n",
       "      <th>4</th>\n",
       "      <td>5</td>\n",
       "      <td>Great taffy at a great price.  There was a wid...</td>\n",
       "    </tr>\n",
       "  </tbody>\n",
       "</table>\n",
       "</div>"
      ],
      "text/plain": [
       "   Score                                               Text\n",
       "0      5  I have bought several of the Vitality canned d...\n",
       "1      1  Product arrived labeled as Jumbo Salted Peanut...\n",
       "2      4  This is a confection that has been around a fe...\n",
       "3      2  If you are looking for the secret ingredient i...\n",
       "4      5  Great taffy at a great price.  There was a wid..."
      ]
     },
     "execution_count": 5,
     "metadata": {},
     "output_type": "execute_result"
    }
   ],
   "source": [
    "df.head()"
   ]
  },
  {
   "cell_type": "code",
   "execution_count": 6,
   "metadata": {
    "execution": {
     "iopub.execute_input": "2024-12-19T18:37:53.500896Z",
     "iopub.status.busy": "2024-12-19T18:37:53.500511Z",
     "iopub.status.idle": "2024-12-19T18:37:54.155582Z",
     "shell.execute_reply": "2024-12-19T18:37:54.154836Z",
     "shell.execute_reply.started": "2024-12-19T18:37:53.500864Z"
    }
   },
   "outputs": [],
   "source": [
    "# df['text'] = df['Text'] + ' ' + df['Summary']\n",
    "# del df['Text']\n",
    "# del df['Summary']"
   ]
  },
  {
   "cell_type": "code",
   "execution_count": 7,
   "metadata": {
    "execution": {
     "iopub.execute_input": "2024-12-23T20:01:54.735873Z",
     "iopub.status.busy": "2024-12-23T20:01:54.735544Z",
     "iopub.status.idle": "2024-12-23T20:01:54.741291Z",
     "shell.execute_reply": "2024-12-23T20:01:54.740552Z",
     "shell.execute_reply.started": "2024-12-23T20:01:54.735847Z"
    }
   },
   "outputs": [],
   "source": [
    "df['Score'] = df['Score'].astype(int)"
   ]
  },
  {
   "cell_type": "code",
   "execution_count": 8,
   "metadata": {
    "execution": {
     "iopub.execute_input": "2024-12-23T20:01:55.437291Z",
     "iopub.status.busy": "2024-12-23T20:01:55.437037Z",
     "iopub.status.idle": "2024-12-23T20:01:55.441577Z",
     "shell.execute_reply": "2024-12-23T20:01:55.440794Z",
     "shell.execute_reply.started": "2024-12-23T20:01:55.437268Z"
    }
   },
   "outputs": [],
   "source": [
    "def clean_text(text):\n",
    "    # Convert to lowercase\n",
    "    text = text.lower()\n",
    "    # Remove URLs\n",
    "    text = re.sub(r'http\\S+|www\\S+|https\\S+', '', text, flags=re.MULTILINE)\n",
    "    # Remove HTML tags\n",
    "    text = re.sub(r'<.*?>', '', text)\n",
    "    # Remove punctuation\n",
    "    #text = text.translate(str.maketrans('', '', string.punctuation))\n",
    "    # Remove numbers\n",
    "    text = re.sub(r'\\d+', '', text)\n",
    "    # Remove extra whitespace\n",
    "    text = text.strip()\n",
    "    return text"
   ]
  },
  {
   "cell_type": "code",
   "execution_count": 9,
   "metadata": {
    "execution": {
     "iopub.execute_input": "2024-12-23T20:01:57.640660Z",
     "iopub.status.busy": "2024-12-23T20:01:57.640328Z",
     "iopub.status.idle": "2024-12-23T20:02:08.920145Z",
     "shell.execute_reply": "2024-12-23T20:02:08.919426Z",
     "shell.execute_reply.started": "2024-12-23T20:01:57.640632Z"
    }
   },
   "outputs": [],
   "source": [
    "df['cleaned_text'] = df['Text'].apply(clean_text)"
   ]
  },
  {
   "cell_type": "code",
   "execution_count": 39,
   "metadata": {
    "execution": {
     "iopub.execute_input": "2024-12-19T18:38:09.746284Z",
     "iopub.status.busy": "2024-12-19T18:38:09.745985Z",
     "iopub.status.idle": "2024-12-19T18:38:09.750642Z",
     "shell.execute_reply": "2024-12-19T18:38:09.749685Z",
     "shell.execute_reply.started": "2024-12-19T18:38:09.746253Z"
    }
   },
   "outputs": [],
   "source": [
    "def tokenize_text(text):\n",
    "    # Tokenize using NLTK's word_tokenize\n",
    "    tokens = word_tokenize(text)\n",
    "    return tokens"
   ]
  },
  {
   "cell_type": "code",
   "execution_count": 79,
   "metadata": {
    "execution": {
     "iopub.execute_input": "2024-12-19T18:38:09.752334Z",
     "iopub.status.busy": "2024-12-19T18:38:09.751988Z",
     "iopub.status.idle": "2024-12-19T18:41:15.295901Z",
     "shell.execute_reply": "2024-12-19T18:41:15.294750Z",
     "shell.execute_reply.started": "2024-12-19T18:38:09.752300Z"
    }
   },
   "outputs": [],
   "source": [
    "# Apply tokenization\n",
    "df['tokens'] = df['cleaned_text'].apply(tokenize_text)\n"
   ]
  },
  {
   "cell_type": "code",
   "execution_count": 80,
   "metadata": {
    "execution": {
     "iopub.execute_input": "2024-12-19T18:42:03.117568Z",
     "iopub.status.busy": "2024-12-19T18:42:03.116951Z",
     "iopub.status.idle": "2024-12-19T18:42:03.200301Z",
     "shell.execute_reply": "2024-12-19T18:42:03.199319Z",
     "shell.execute_reply.started": "2024-12-19T18:42:03.117530Z"
    }
   },
   "outputs": [
    {
     "name": "stdout",
     "output_type": "stream",
     "text": [
      "                                        cleaned_text  \\\n",
      "0  i have bought several of the vitality canned d...   \n",
      "1  product arrived labeled as jumbo salted peanut...   \n",
      "2  this is a confection that has been around a fe...   \n",
      "3  if you are looking for the secret ingredient i...   \n",
      "4  great taffy at a great price  there was a wide...   \n",
      "\n",
      "                                              tokens  \n",
      "0  [i, have, bought, several, of, the, vitality, ...  \n",
      "1  [product, arrived, labeled, as, jumbo, salted,...  \n",
      "2  [this, is, a, confection, that, has, been, aro...  \n",
      "3  [if, you, are, looking, for, the, secret, ingr...  \n",
      "4  [great, taffy, at, a, great, price, there, was...  \n"
     ]
    }
   ],
   "source": [
    "# Display a sample of tokenized data\n",
    "print(df[['cleaned_text', 'tokens']].head())"
   ]
  },
  {
   "cell_type": "code",
   "execution_count": 40,
   "metadata": {
    "execution": {
     "iopub.execute_input": "2024-12-19T18:42:03.933064Z",
     "iopub.status.busy": "2024-12-19T18:42:03.932712Z",
     "iopub.status.idle": "2024-12-19T18:42:11.750510Z",
     "shell.execute_reply": "2024-12-19T18:42:11.749668Z",
     "shell.execute_reply.started": "2024-12-19T18:42:03.933034Z"
    }
   },
   "outputs": [],
   "source": [
    "from nltk.corpus import stopwords\n",
    "\n",
    "stop_words = set(stopwords.words('english'))\n",
    "\n",
    "def remove_stopwords(tokens):\n",
    "    return [word for word in tokens if word not in stop_words]"
   ]
  },
  {
   "cell_type": "code",
   "execution_count": null,
   "metadata": {},
   "outputs": [],
   "source": [
    "df['tokens_no_stopwords'] = df['tokens'].apply(remove_stopwords)"
   ]
  },
  {
   "cell_type": "code",
   "execution_count": 41,
   "metadata": {
    "execution": {
     "iopub.execute_input": "2024-12-19T18:42:11.753538Z",
     "iopub.status.busy": "2024-12-19T18:42:11.752421Z",
     "iopub.status.idle": "2024-12-19T18:50:03.995368Z",
     "shell.execute_reply": "2024-12-19T18:50:03.994598Z",
     "shell.execute_reply.started": "2024-12-19T18:42:11.753485Z"
    }
   },
   "outputs": [],
   "source": [
    "stemmer = PorterStemmer()\n",
    "\n",
    "def stem_tokens(tokens):\n",
    "    return [stemmer.stem(word) for word in tokens]"
   ]
  },
  {
   "cell_type": "code",
   "execution_count": null,
   "metadata": {},
   "outputs": [],
   "source": [
    "df['stemmed_tokens'] = df['tokens_no_stopwords'].apply(stem_tokens)"
   ]
  },
  {
   "cell_type": "code",
   "execution_count": 83,
   "metadata": {},
   "outputs": [
    {
     "name": "stderr",
     "output_type": "stream",
     "text": [
      "[nltk_data] Downloading package vader_lexicon to C:\\Users\\IT\n",
      "[nltk_data]     SHOP\\AppData\\Roaming\\nltk_data...\n",
      "[nltk_data]   Package vader_lexicon is already up-to-date!\n"
     ]
    },
    {
     "data": {
      "text/plain": [
       "True"
      ]
     },
     "execution_count": 83,
     "metadata": {},
     "output_type": "execute_result"
    }
   ],
   "source": [
    "nltk.download('vader_lexicon')"
   ]
  },
  {
   "cell_type": "code",
   "execution_count": 10,
   "metadata": {
    "execution": {
     "iopub.execute_input": "2024-12-23T20:02:11.786076Z",
     "iopub.status.busy": "2024-12-23T20:02:11.785770Z",
     "iopub.status.idle": "2024-12-23T20:02:11.825819Z",
     "shell.execute_reply": "2024-12-23T20:02:11.825007Z",
     "shell.execute_reply.started": "2024-12-23T20:02:11.786050Z"
    }
   },
   "outputs": [],
   "source": [
    "from nltk.sentiment import SentimentIntensityAnalyzer\n",
    "\n",
    "# Initialize the VADER Sentiment Analyzer\n",
    "sia = SentimentIntensityAnalyzer()"
   ]
  },
  {
   "cell_type": "code",
   "execution_count": 11,
   "metadata": {
    "execution": {
     "iopub.execute_input": "2024-12-23T20:02:14.294518Z",
     "iopub.status.busy": "2024-12-23T20:02:14.294192Z",
     "iopub.status.idle": "2024-12-23T20:08:32.604073Z",
     "shell.execute_reply": "2024-12-23T20:08:32.603140Z",
     "shell.execute_reply.started": "2024-12-23T20:02:14.294483Z"
    }
   },
   "outputs": [],
   "source": [
    "# Apply sentiment analysis and add as a new column\n",
    "df[\"Polarity_score\"] = df[\"cleaned_text\"].apply(lambda x: sia.polarity_scores(x)['compound'])"
   ]
  },
  {
   "cell_type": "code",
   "execution_count": 12,
   "metadata": {
    "execution": {
     "iopub.execute_input": "2024-12-23T20:11:14.306223Z",
     "iopub.status.busy": "2024-12-23T20:11:14.305906Z",
     "iopub.status.idle": "2024-12-23T20:11:14.417139Z",
     "shell.execute_reply": "2024-12-23T20:11:14.415923Z",
     "shell.execute_reply.started": "2024-12-23T20:11:14.306197Z"
    }
   },
   "outputs": [],
   "source": [
    "# Optionally, classify the sentiment based on score\n",
    "df[\"sentiment_label\"] = df[\"Polarity_score\"].apply(\n",
    "    lambda x: \"Positive\" if x > 0 else \"Negative\" if x < 0 else \"Neutral\"\n",
    ")"
   ]
  },
  {
   "cell_type": "code",
   "execution_count": 13,
   "metadata": {
    "execution": {
     "iopub.execute_input": "2024-12-23T20:11:15.909048Z",
     "iopub.status.busy": "2024-12-23T20:11:15.908768Z",
     "iopub.status.idle": "2024-12-23T20:11:15.931380Z",
     "shell.execute_reply": "2024-12-23T20:11:15.930490Z",
     "shell.execute_reply.started": "2024-12-23T20:11:15.909027Z"
    }
   },
   "outputs": [
    {
     "name": "stdout",
     "output_type": "stream",
     "text": [
      "        Score  Polarity_score sentiment_label\n",
      "0           5          0.9441        Positive\n",
      "1           1         -0.5664        Negative\n",
      "2           4          0.8265        Positive\n",
      "3           2          0.0000         Neutral\n",
      "4           5          0.9468        Positive\n",
      "...       ...             ...             ...\n",
      "568449      5          0.8589        Positive\n",
      "568450      2         -0.4848        Negative\n",
      "568451      5          0.4352        Positive\n",
      "568452      5          0.9690        Positive\n",
      "568453      5          0.4754        Positive\n",
      "\n",
      "[568454 rows x 3 columns]\n"
     ]
    }
   ],
   "source": [
    "print(df[['Score', 'Polarity_score', 'sentiment_label']])"
   ]
  },
  {
   "cell_type": "markdown",
   "metadata": {},
   "source": [
    "# comparison between the generated sentiment labels and the original ones"
   ]
  },
  {
   "cell_type": "code",
   "execution_count": 14,
   "metadata": {
    "execution": {
     "iopub.execute_input": "2024-12-23T20:11:19.572063Z",
     "iopub.status.busy": "2024-12-23T20:11:19.571787Z",
     "iopub.status.idle": "2024-12-23T20:11:19.659609Z",
     "shell.execute_reply": "2024-12-23T20:11:19.658743Z",
     "shell.execute_reply.started": "2024-12-23T20:11:19.572043Z"
    }
   },
   "outputs": [],
   "source": [
    "def categorize_rating(star):\n",
    "    if star >= 4:\n",
    "        return 'Positive'\n",
    "    elif star == 3:\n",
    "        return 'Neutral'\n",
    "    else:\n",
    "        return 'Negative'\n",
    "\n",
    "df['original_sentiment'] = df['Score'].apply(categorize_rating)"
   ]
  },
  {
   "cell_type": "code",
   "execution_count": 15,
   "metadata": {
    "execution": {
     "iopub.execute_input": "2024-12-23T20:11:21.228642Z",
     "iopub.status.busy": "2024-12-23T20:11:21.228310Z",
     "iopub.status.idle": "2024-12-23T20:11:21.248187Z",
     "shell.execute_reply": "2024-12-23T20:11:21.247201Z",
     "shell.execute_reply.started": "2024-12-23T20:11:21.228613Z"
    }
   },
   "outputs": [
    {
     "name": "stdout",
     "output_type": "stream",
     "text": [
      "        Score original_sentiment sentiment_label\n",
      "0           5           Positive        Positive\n",
      "1           1           Negative        Negative\n",
      "2           4           Positive        Positive\n",
      "3           2           Negative         Neutral\n",
      "4           5           Positive        Positive\n",
      "...       ...                ...             ...\n",
      "568449      5           Positive        Positive\n",
      "568450      2           Negative        Negative\n",
      "568451      5           Positive        Positive\n",
      "568452      5           Positive        Positive\n",
      "568453      5           Positive        Positive\n",
      "\n",
      "[568454 rows x 3 columns]\n"
     ]
    }
   ],
   "source": [
    "print(df[['Score','original_sentiment', 'sentiment_label']])"
   ]
  },
  {
   "cell_type": "code",
   "execution_count": 16,
   "metadata": {
    "execution": {
     "iopub.execute_input": "2024-12-23T20:11:24.939352Z",
     "iopub.status.busy": "2024-12-23T20:11:24.939071Z",
     "iopub.status.idle": "2024-12-23T20:11:24.984495Z",
     "shell.execute_reply": "2024-12-23T20:11:24.983646Z",
     "shell.execute_reply.started": "2024-12-23T20:11:24.939330Z"
    }
   },
   "outputs": [],
   "source": [
    "df['match'] = df['original_sentiment'] == df['sentiment_label']"
   ]
  },
  {
   "cell_type": "code",
   "execution_count": 17,
   "metadata": {
    "execution": {
     "iopub.execute_input": "2024-12-23T20:11:34.076014Z",
     "iopub.status.busy": "2024-12-23T20:11:34.075698Z",
     "iopub.status.idle": "2024-12-23T20:11:34.084388Z",
     "shell.execute_reply": "2024-12-23T20:11:34.083566Z",
     "shell.execute_reply.started": "2024-12-23T20:11:34.075988Z"
    }
   },
   "outputs": [
    {
     "name": "stdout",
     "output_type": "stream",
     "text": [
      "        match\n",
      "0        True\n",
      "1        True\n",
      "2        True\n",
      "3       False\n",
      "4        True\n",
      "...       ...\n",
      "568449   True\n",
      "568450   True\n",
      "568451   True\n",
      "568452   True\n",
      "568453   True\n",
      "\n",
      "[568454 rows x 1 columns]\n"
     ]
    }
   ],
   "source": [
    "print(df[['match']])"
   ]
  },
  {
   "cell_type": "code",
   "execution_count": 18,
   "metadata": {
    "execution": {
     "iopub.execute_input": "2024-12-23T20:11:47.250051Z",
     "iopub.status.busy": "2024-12-23T20:11:47.249784Z",
     "iopub.status.idle": "2024-12-23T20:11:47.266309Z",
     "shell.execute_reply": "2024-12-23T20:11:47.265536Z",
     "shell.execute_reply.started": "2024-12-23T20:11:47.250030Z"
    }
   },
   "outputs": [],
   "source": [
    "comparison = df['match'].value_counts()"
   ]
  },
  {
   "cell_type": "code",
   "execution_count": 19,
   "metadata": {
    "execution": {
     "iopub.execute_input": "2024-12-23T20:12:18.701045Z",
     "iopub.status.busy": "2024-12-23T20:12:18.700767Z",
     "iopub.status.idle": "2024-12-23T20:12:19.016808Z",
     "shell.execute_reply": "2024-12-23T20:12:19.015978Z",
     "shell.execute_reply.started": "2024-12-23T20:12:18.701025Z"
    }
   },
   "outputs": [
    {
     "data": {
      "image/png": "[encoded data removed]",
      "text/plain": [
       "<Figure size 600x400 with 1 Axes>"
      ]
     },
     "metadata": {},
     "output_type": "display_data"
    }
   ],
   "source": [
    "import matplotlib.pyplot as plt\n",
    "\n",
    "plt.figure(figsize=(6, 4))  \n",
    "comparison.plot(kind='bar')  \n",
    "\n",
    "plt.title('Comparison of original and generated labels', fontsize=16)\n",
    "plt.xlabel('Comparison', fontsize=14)\n",
    "plt.ylabel('Count', fontsize=14)\n",
    "\n",
    "plt.xticks(rotation=0, fontsize=12)\n",
    "plt.yticks(fontsize=12)\n",
    "\n",
    "plt.show()"
   ]
  },
  {
   "cell_type": "code",
   "execution_count": 20,
   "metadata": {
    "execution": {
     "iopub.execute_input": "2024-12-23T20:12:21.350857Z",
     "iopub.status.busy": "2024-12-23T20:12:21.350558Z",
     "iopub.status.idle": "2024-12-23T20:12:21.356601Z",
     "shell.execute_reply": "2024-12-23T20:12:21.355811Z",
     "shell.execute_reply.started": "2024-12-23T20:12:21.350835Z"
    }
   },
   "outputs": [
    {
     "name": "stdout",
     "output_type": "stream",
     "text": [
      "Number of False values: 114261\n"
     ]
    }
   ],
   "source": [
    "# Count the number of False values in 'Sentiment_Error' column\n",
    "false_count = (df['match'] == False).sum()\n",
    "\n",
    "print(f'Number of False values: {false_count}')"
   ]
  },
  {
   "cell_type": "code",
   "execution_count": 21,
   "metadata": {},
   "outputs": [
    {
     "name": "stdout",
     "output_type": "stream",
     "text": [
      "Number of true values: 454193\n"
     ]
    }
   ],
   "source": [
    "# Count the number of False values in 'Sentiment_Error' column\n",
    "true_count = (df['match'] == True).sum()\n",
    "\n",
    "print(f'Number of true values: {true_count}')"
   ]
  },
  {
   "cell_type": "code",
   "execution_count": 22,
   "metadata": {
    "execution": {
     "iopub.execute_input": "2024-12-23T20:12:22.849641Z",
     "iopub.status.busy": "2024-12-23T20:12:22.849294Z",
     "iopub.status.idle": "2024-12-23T20:12:22.855818Z",
     "shell.execute_reply": "2024-12-23T20:12:22.854982Z",
     "shell.execute_reply.started": "2024-12-23T20:12:22.849612Z"
    }
   },
   "outputs": [
    {
     "name": "stdout",
     "output_type": "stream",
     "text": [
      "Accuracy: 79.90%\n"
     ]
    }
   ],
   "source": [
    "# Calculate accuracy based on the number of False values (correct sentiment labels)\n",
    "accuracy = (df['match'] == True).mean()\n",
    "\n",
    "# Print the accuracy\n",
    "print(f'Accuracy: {accuracy * 100:.2f}%')"
   ]
  },
  {
   "cell_type": "markdown",
   "metadata": {},
   "source": [
    "# comparison between the generated stars and the original ones"
   ]
  },
  {
   "cell_type": "code",
   "execution_count": 23,
   "metadata": {
    "execution": {
     "iopub.execute_input": "2024-12-23T20:12:28.403401Z",
     "iopub.status.busy": "2024-12-23T20:12:28.403129Z",
     "iopub.status.idle": "2024-12-23T20:12:28.598196Z",
     "shell.execute_reply": "2024-12-23T20:12:28.597532Z",
     "shell.execute_reply.started": "2024-12-23T20:12:28.403380Z"
    }
   },
   "outputs": [],
   "source": [
    "def polarity_to_label(polarity):\n",
    "    if polarity > 0:\n",
    "        return 5 # Positive\n",
    "    elif polarity < 0:\n",
    "        return 1  # Negative\n",
    "    else:\n",
    "        return 3  # Neutral\n",
    "\n",
    "\n",
    "df['generated_Score'] = df['Polarity_score'].apply(polarity_to_label)"
   ]
  },
  {
   "cell_type": "code",
   "execution_count": 24,
   "metadata": {
    "execution": {
     "iopub.execute_input": "2024-12-23T20:12:31.320197Z",
     "iopub.status.busy": "2024-12-23T20:12:31.319911Z",
     "iopub.status.idle": "2024-12-23T20:12:31.500787Z",
     "shell.execute_reply": "2024-12-23T20:12:31.499951Z",
     "shell.execute_reply.started": "2024-12-23T20:12:31.320175Z"
    }
   },
   "outputs": [],
   "source": [
    "def score_to_label(score):\n",
    "    if score <= 2:\n",
    "        return 1  # Negative\n",
    "    elif score == 3:\n",
    "        return 3 # Neutral\n",
    "    else:\n",
    "        return 5 # Positive\n",
    "\n",
    "df['original_Score'] = df['Score'].apply(score_to_label)"
   ]
  },
  {
   "cell_type": "code",
   "execution_count": 25,
   "metadata": {
    "execution": {
     "iopub.execute_input": "2024-12-23T20:12:32.722974Z",
     "iopub.status.busy": "2024-12-23T20:12:32.722697Z",
     "iopub.status.idle": "2024-12-23T20:12:32.728109Z",
     "shell.execute_reply": "2024-12-23T20:12:32.727274Z",
     "shell.execute_reply.started": "2024-12-23T20:12:32.722952Z"
    }
   },
   "outputs": [
    {
     "data": {
      "text/plain": [
       "Index(['Score', 'Text', 'cleaned_text', 'Polarity_score', 'sentiment_label',\n",
       "       'original_sentiment', 'match', 'generated_Score', 'original_Score'],\n",
       "      dtype='object')"
      ]
     },
     "execution_count": 25,
     "metadata": {},
     "output_type": "execute_result"
    }
   ],
   "source": [
    "df.columns"
   ]
  },
  {
   "cell_type": "code",
   "execution_count": 26,
   "metadata": {
    "execution": {
     "iopub.execute_input": "2024-12-23T20:12:36.066884Z",
     "iopub.status.busy": "2024-12-23T20:12:36.066600Z",
     "iopub.status.idle": "2024-12-23T20:12:36.087104Z",
     "shell.execute_reply": "2024-12-23T20:12:36.086361Z",
     "shell.execute_reply.started": "2024-12-23T20:12:36.066863Z"
    },
    "scrolled": true
   },
   "outputs": [
    {
     "name": "stdout",
     "output_type": "stream",
     "text": [
      "        original_Score original_sentiment sentiment_label  generated_Score\n",
      "0                    5           Positive        Positive                5\n",
      "1                    1           Negative        Negative                1\n",
      "2                    5           Positive        Positive                5\n",
      "3                    1           Negative         Neutral                3\n",
      "4                    5           Positive        Positive                5\n",
      "...                ...                ...             ...              ...\n",
      "568449               5           Positive        Positive                5\n",
      "568450               1           Negative        Negative                1\n",
      "568451               5           Positive        Positive                5\n",
      "568452               5           Positive        Positive                5\n",
      "568453               5           Positive        Positive                5\n",
      "\n",
      "[568454 rows x 4 columns]\n"
     ]
    }
   ],
   "source": [
    "print(df[['original_Score', 'original_sentiment', 'sentiment_label', 'generated_Score']])"
   ]
  },
  {
   "cell_type": "code",
   "execution_count": 27,
   "metadata": {
    "execution": {
     "iopub.execute_input": "2024-12-23T20:12:43.257011Z",
     "iopub.status.busy": "2024-12-23T20:12:43.256717Z",
     "iopub.status.idle": "2024-12-23T20:12:43.268935Z",
     "shell.execute_reply": "2024-12-23T20:12:43.268017Z",
     "shell.execute_reply.started": "2024-12-23T20:12:43.256989Z"
    }
   },
   "outputs": [
    {
     "data": {
      "text/plain": [
       "original_Score\n",
       "5    443777\n",
       "1     82037\n",
       "3     42640\n",
       "Name: count, dtype: int64"
      ]
     },
     "execution_count": 27,
     "metadata": {},
     "output_type": "execute_result"
    }
   ],
   "source": [
    "df['original_Score'].value_counts()"
   ]
  },
  {
   "cell_type": "code",
   "execution_count": 28,
   "metadata": {
    "execution": {
     "iopub.execute_input": "2024-12-23T20:12:44.285992Z",
     "iopub.status.busy": "2024-12-23T20:12:44.285688Z",
     "iopub.status.idle": "2024-12-23T20:12:44.292989Z",
     "shell.execute_reply": "2024-12-23T20:12:44.292231Z",
     "shell.execute_reply.started": "2024-12-23T20:12:44.285967Z"
    }
   },
   "outputs": [],
   "source": [
    "original_score = df['original_Score'].value_counts()"
   ]
  },
  {
   "cell_type": "code",
   "execution_count": 29,
   "metadata": {
    "execution": {
     "iopub.execute_input": "2024-12-23T20:12:45.636898Z",
     "iopub.status.busy": "2024-12-23T20:12:45.636609Z",
     "iopub.status.idle": "2024-12-23T20:12:45.836116Z",
     "shell.execute_reply": "2024-12-23T20:12:45.835389Z",
     "shell.execute_reply.started": "2024-12-23T20:12:45.636877Z"
    }
   },
   "outputs": [
    {
     "data": {
      "image/png": "[encoded data removed]",
      "text/plain": [
       "<Figure size 600x400 with 1 Axes>"
      ]
     },
     "metadata": {},
     "output_type": "display_data"
    }
   ],
   "source": [
    "plt.figure(figsize=(6, 4))  \n",
    "original_score.plot(kind='bar')  \n",
    "\n",
    "plt.title('original Scores counts', fontsize=16)\n",
    "plt.xlabel('Comparison', fontsize=14)\n",
    "plt.ylabel('Count', fontsize=14)\n",
    "\n",
    "plt.xticks(rotation=0, fontsize=12)\n",
    "plt.yticks(fontsize=12)\n",
    "\n",
    "plt.show()"
   ]
  },
  {
   "cell_type": "code",
   "execution_count": 30,
   "metadata": {
    "execution": {
     "iopub.execute_input": "2024-12-23T20:12:47.309086Z",
     "iopub.status.busy": "2024-12-23T20:12:47.308807Z",
     "iopub.status.idle": "2024-12-23T20:12:47.318039Z",
     "shell.execute_reply": "2024-12-23T20:12:47.317184Z",
     "shell.execute_reply.started": "2024-12-23T20:12:47.309065Z"
    }
   },
   "outputs": [
    {
     "data": {
      "text/plain": [
       "generated_Score\n",
       "5    498914\n",
       "1     61511\n",
       "3      8029\n",
       "Name: count, dtype: int64"
      ]
     },
     "execution_count": 30,
     "metadata": {},
     "output_type": "execute_result"
    }
   ],
   "source": [
    "df['generated_Score'].value_counts()"
   ]
  },
  {
   "cell_type": "code",
   "execution_count": 31,
   "metadata": {
    "execution": {
     "iopub.execute_input": "2024-12-23T20:12:47.806085Z",
     "iopub.status.busy": "2024-12-23T20:12:47.805863Z",
     "iopub.status.idle": "2024-12-23T20:12:47.812888Z",
     "shell.execute_reply": "2024-12-23T20:12:47.812126Z",
     "shell.execute_reply.started": "2024-12-23T20:12:47.806066Z"
    }
   },
   "outputs": [],
   "source": [
    "generated_score = df['generated_Score'].value_counts()"
   ]
  },
  {
   "cell_type": "code",
   "execution_count": 32,
   "metadata": {
    "execution": {
     "iopub.execute_input": "2024-12-23T20:12:48.895240Z",
     "iopub.status.busy": "2024-12-23T20:12:48.894969Z",
     "iopub.status.idle": "2024-12-23T20:12:49.031384Z",
     "shell.execute_reply": "2024-12-23T20:12:49.030093Z",
     "shell.execute_reply.started": "2024-12-23T20:12:48.895217Z"
    }
   },
   "outputs": [
    {
     "data": {
      "image/png": "[encoded data removed]",
      "text/plain": [
       "<Figure size 600x400 with 1 Axes>"
      ]
     },
     "metadata": {},
     "output_type": "display_data"
    }
   ],
   "source": [
    "plt.figure(figsize=(6, 4))  \n",
    "original_score.plot(kind='bar')  \n",
    "\n",
    "plt.title('generated Scores counts', fontsize=16)\n",
    "plt.xlabel('Comparison', fontsize=14)\n",
    "plt.ylabel('Count', fontsize=14)\n",
    "\n",
    "plt.xticks(rotation=0, fontsize=12)\n",
    "plt.yticks(fontsize=12)\n",
    "\n",
    "plt.show()"
   ]
  },
  {
   "cell_type": "code",
   "execution_count": 33,
   "metadata": {
    "execution": {
     "iopub.execute_input": "2024-12-23T20:12:49.684425Z",
     "iopub.status.busy": "2024-12-23T20:12:49.684163Z",
     "iopub.status.idle": "2024-12-23T20:12:49.690489Z",
     "shell.execute_reply": "2024-12-23T20:12:49.689738Z",
     "shell.execute_reply.started": "2024-12-23T20:12:49.684386Z"
    }
   },
   "outputs": [
    {
     "name": "stdout",
     "output_type": "stream",
     "text": [
      "Accuracy: 79.90%\n"
     ]
    }
   ],
   "source": [
    "# Calculate the accuracy of the generated stars compared to the original stars\n",
    "correct_predictions = (df['original_Score'] == df['generated_Score']).sum()\n",
    "total_predictions = len(df)\n",
    "\n",
    "accuracy = correct_predictions / total_predictions * 100\n",
    "\n",
    "# Display the results\n",
    "print(f\"Accuracy: {accuracy:.2f}%\")"
   ]
  },
  {
   "cell_type": "code",
   "execution_count": null,
   "metadata": {},
   "outputs": [],
   "source": []
  },
  {
   "cell_type": "code",
   "execution_count": 53,
   "metadata": {
    "execution": {
     "iopub.execute_input": "2024-12-23T20:24:10.040056Z",
     "iopub.status.busy": "2024-12-23T20:24:10.039789Z",
     "iopub.status.idle": "2024-12-23T20:24:10.043774Z",
     "shell.execute_reply": "2024-12-23T20:24:10.043052Z",
     "shell.execute_reply.started": "2024-12-23T20:24:10.040036Z"
    }
   },
   "outputs": [],
   "source": [
    "from sklearn.feature_extraction.text import TfidfVectorizer\n",
    "from sklearn.linear_model import LogisticRegression\n",
    "from sklearn.model_selection import train_test_split"
   ]
  },
  {
   "cell_type": "code",
   "execution_count": 54,
   "metadata": {
    "execution": {
     "iopub.execute_input": "2024-12-23T20:24:11.553466Z",
     "iopub.status.busy": "2024-12-23T20:24:11.553132Z",
     "iopub.status.idle": "2024-12-23T20:24:11.622992Z",
     "shell.execute_reply": "2024-12-23T20:24:11.622006Z",
     "shell.execute_reply.started": "2024-12-23T20:24:11.553420Z"
    }
   },
   "outputs": [],
   "source": [
    "X_train, X_test, y_train, y_test = train_test_split(df['cleaned_text'], df['generated_Score'], test_size=0.2, random_state=42)"
   ]
  },
  {
   "cell_type": "code",
   "execution_count": 55,
   "metadata": {},
   "outputs": [],
   "source": [
    "tfidf = TfidfVectorizer(max_features=5000)\n",
    "\n",
    "X_train_tfidf = tfidf.fit_transform(X_train)\n",
    "X_test_tfidf = tfidf.transform(X_test)"
   ]
  },
  {
   "cell_type": "code",
   "execution_count": 56,
   "metadata": {
    "scrolled": true
   },
   "outputs": [
    {
     "name": "stderr",
     "output_type": "stream",
     "text": [
      "C:\\Users\\IT SHOP\\.anaconda\\jup\\Lib\\site-packages\\sklearn\\linear_model\\_logistic.py:469: ConvergenceWarning: lbfgs failed to converge (status=1):\n",
      "STOP: TOTAL NO. of ITERATIONS REACHED LIMIT.\n",
      "\n",
      "Increase the number of iterations (max_iter) or scale the data as shown in:\n",
      "    https://scikit-learn.org/stable/modules/preprocessing.html\n",
      "Please also refer to the documentation for alternative solver options:\n",
      "    https://scikit-learn.org/stable/modules/linear_model.html#logistic-regression\n",
      "  n_iter_i = _check_optimize_result(\n"
     ]
    },
    {
     "data": {
      "text/html": [
       "<style>#sk-container-id-1 {\n",
       "  /* Definition of color scheme common for light and dark mode */\n",
       "  --sklearn-color-text: black;\n",
       "  --sklearn-color-line: gray;\n",
       "  /* Definition of color scheme for unfitted estimators */\n",
       "  --sklearn-color-unfitted-level-0: #fff5e6;\n",
       "  --sklearn-color-unfitted-level-1: #f6e4d2;\n",
       "  --sklearn-color-unfitted-level-2: #ffe0b3;\n",
       "  --sklearn-color-unfitted-level-3: chocolate;\n",
       "  /* Definition of color scheme for fitted estimators */\n",
       "  --sklearn-color-fitted-level-0: #f0f8ff;\n",
       "  --sklearn-color-fitted-level-1: #d4ebff;\n",
       "  --sklearn-color-fitted-level-2: #b3dbfd;\n",
       "  --sklearn-color-fitted-level-3: cornflowerblue;\n",
       "\n",
       "  /* Specific color for light theme */\n",
       "  --sklearn-color-text-on-default-background: var(--sg-text-color, var(--theme-code-foreground, var(--jp-content-font-color1, black)));\n",
       "  --sklearn-color-background: var(--sg-background-color, var(--theme-background, var(--jp-layout-color0, white)));\n",
       "  --sklearn-color-border-box: var(--sg-text-color, var(--theme-code-foreground, var(--jp-content-font-color1, black)));\n",
       "  --sklearn-color-icon: #696969;\n",
       "\n",
       "  @media (prefers-color-scheme: dark) {\n",
       "    /* Redefinition of color scheme for dark theme */\n",
       "    --sklearn-color-text-on-default-background: var(--sg-text-color, var(--theme-code-foreground, var(--jp-content-font-color1, white)));\n",
       "    --sklearn-color-background: var(--sg-background-color, var(--theme-background, var(--jp-layout-color0, #111)));\n",
       "    --sklearn-color-border-box: var(--sg-text-color, var(--theme-code-foreground, var(--jp-content-font-color1, white)));\n",
       "    --sklearn-color-icon: #878787;\n",
       "  }\n",
       "}\n",
       "\n",
       "#sk-container-id-1 {\n",
       "  color: var(--sklearn-color-text);\n",
       "}\n",
       "\n",
       "#sk-container-id-1 pre {\n",
       "  padding: 0;\n",
       "}\n",
       "\n",
       "#sk-container-id-1 input.sk-hidden--visually {\n",
       "  border: 0;\n",
       "  clip: rect(1px 1px 1px 1px);\n",
       "  clip: rect(1px, 1px, 1px, 1px);\n",
       "  height: 1px;\n",
       "  margin: -1px;\n",
       "  overflow: hidden;\n",
       "  padding: 0;\n",
       "  position: absolute;\n",
       "  width: 1px;\n",
       "}\n",
       "\n",
       "#sk-container-id-1 div.sk-dashed-wrapped {\n",
       "  border: 1px dashed var(--sklearn-color-line);\n",
       "  margin: 0 0.4em 0.5em 0.4em;\n",
       "  box-sizing: border-box;\n",
       "  padding-bottom: 0.4em;\n",
       "  background-color: var(--sklearn-color-background);\n",
       "}\n",
       "\n",
       "#sk-container-id-1 div.sk-container {\n",
       "  /* jupyter's `normalize.less` sets `[hidden] { display: none; }`\n",
       "     but bootstrap.min.css set `[hidden] { display: none !important; }`\n",
       "     so we also need the `!important` here to be able to override the\n",
       "     default hidden behavior on the sphinx rendered scikit-learn.org.\n",
       "     See: https://github.com/scikit-learn/scikit-learn/issues/21755 */\n",
       "  display: inline-block !important;\n",
       "  position: relative;\n",
       "}\n",
       "\n",
       "#sk-container-id-1 div.sk-text-repr-fallback {\n",
       "  display: none;\n",
       "}\n",
       "\n",
       "div.sk-parallel-item,\n",
       "div.sk-serial,\n",
       "div.sk-item {\n",
       "  /* draw centered vertical line to link estimators */\n",
       "  background-image: linear-gradient(var(--sklearn-color-text-on-default-background), var(--sklearn-color-text-on-default-background));\n",
       "  background-size: 2px 100%;\n",
       "  background-repeat: no-repeat;\n",
       "  background-position: center center;\n",
       "}\n",
       "\n",
       "/* Parallel-specific style estimator block */\n",
       "\n",
       "#sk-container-id-1 div.sk-parallel-item::after {\n",
       "  content: \"\";\n",
       "  width: 100%;\n",
       "  border-bottom: 2px solid var(--sklearn-color-text-on-default-background);\n",
       "  flex-grow: 1;\n",
       "}\n",
       "\n",
       "#sk-container-id-1 div.sk-parallel {\n",
       "  display: flex;\n",
       "  align-items: stretch;\n",
       "  justify-content: center;\n",
       "  background-color: var(--sklearn-color-background);\n",
       "  position: relative;\n",
       "}\n",
       "\n",
       "#sk-container-id-1 div.sk-parallel-item {\n",
       "  display: flex;\n",
       "  flex-direction: column;\n",
       "}\n",
       "\n",
       "#sk-container-id-1 div.sk-parallel-item:first-child::after {\n",
       "  align-self: flex-end;\n",
       "  width: 50%;\n",
       "}\n",
       "\n",
       "#sk-container-id-1 div.sk-parallel-item:last-child::after {\n",
       "  align-self: flex-start;\n",
       "  width: 50%;\n",
       "}\n",
       "\n",
       "#sk-container-id-1 div.sk-parallel-item:only-child::after {\n",
       "  width: 0;\n",
       "}\n",
       "\n",
       "/* Serial-specific style estimator block */\n",
       "\n",
       "#sk-container-id-1 div.sk-serial {\n",
       "  display: flex;\n",
       "  flex-direction: column;\n",
       "  align-items: center;\n",
       "  background-color: var(--sklearn-color-background);\n",
       "  padding-right: 1em;\n",
       "  padding-left: 1em;\n",
       "}\n",
       "\n",
       "\n",
       "/* Toggleable style: style used for estimator/Pipeline/ColumnTransformer box that is\n",
       "clickable and can be expanded/collapsed.\n",
       "- Pipeline and ColumnTransformer use this feature and define the default style\n",
       "- Estimators will overwrite some part of the style using the `sk-estimator` class\n",
       "*/\n",
       "\n",
       "/* Pipeline and ColumnTransformer style (default) */\n",
       "\n",
       "#sk-container-id-1 div.sk-toggleable {\n",
       "  /* Default theme specific background. It is overwritten whether we have a\n",
       "  specific estimator or a Pipeline/ColumnTransformer */\n",
       "  background-color: var(--sklearn-color-background);\n",
       "}\n",
       "\n",
       "/* Toggleable label */\n",
       "#sk-container-id-1 label.sk-toggleable__label {\n",
       "  cursor: pointer;\n",
       "  display: block;\n",
       "  width: 100%;\n",
       "  margin-bottom: 0;\n",
       "  padding: 0.5em;\n",
       "  box-sizing: border-box;\n",
       "  text-align: center;\n",
       "}\n",
       "\n",
       "#sk-container-id-1 label.sk-toggleable__label-arrow:before {\n",
       "  /* Arrow on the left of the label */\n",
       "  content: \"▸\";\n",
       "  float: left;\n",
       "  margin-right: 0.25em;\n",
       "  color: var(--sklearn-color-icon);\n",
       "}\n",
       "\n",
       "#sk-container-id-1 label.sk-toggleable__label-arrow:hover:before {\n",
       "  color: var(--sklearn-color-text);\n",
       "}\n",
       "\n",
       "/* Toggleable content - dropdown */\n",
       "\n",
       "#sk-container-id-1 div.sk-toggleable__content {\n",
       "  max-height: 0;\n",
       "  max-width: 0;\n",
       "  overflow: hidden;\n",
       "  text-align: left;\n",
       "  /* unfitted */\n",
       "  background-color: var(--sklearn-color-unfitted-level-0);\n",
       "}\n",
       "\n",
       "#sk-container-id-1 div.sk-toggleable__content.fitted {\n",
       "  /* fitted */\n",
       "  background-color: var(--sklearn-color-fitted-level-0);\n",
       "}\n",
       "\n",
       "#sk-container-id-1 div.sk-toggleable__content pre {\n",
       "  margin: 0.2em;\n",
       "  border-radius: 0.25em;\n",
       "  color: var(--sklearn-color-text);\n",
       "  /* unfitted */\n",
       "  background-color: var(--sklearn-color-unfitted-level-0);\n",
       "}\n",
       "\n",
       "#sk-container-id-1 div.sk-toggleable__content.fitted pre {\n",
       "  /* unfitted */\n",
       "  background-color: var(--sklearn-color-fitted-level-0);\n",
       "}\n",
       "\n",
       "#sk-container-id-1 input.sk-toggleable__control:checked~div.sk-toggleable__content {\n",
       "  /* Expand drop-down */\n",
       "  max-height: 200px;\n",
       "  max-width: 100%;\n",
       "  overflow: auto;\n",
       "}\n",
       "\n",
       "#sk-container-id-1 input.sk-toggleable__control:checked~label.sk-toggleable__label-arrow:before {\n",
       "  content: \"▾\";\n",
       "}\n",
       "\n",
       "/* Pipeline/ColumnTransformer-specific style */\n",
       "\n",
       "#sk-container-id-1 div.sk-label input.sk-toggleable__control:checked~label.sk-toggleable__label {\n",
       "  color: var(--sklearn-color-text);\n",
       "  background-color: var(--sklearn-color-unfitted-level-2);\n",
       "}\n",
       "\n",
       "#sk-container-id-1 div.sk-label.fitted input.sk-toggleable__control:checked~label.sk-toggleable__label {\n",
       "  background-color: var(--sklearn-color-fitted-level-2);\n",
       "}\n",
       "\n",
       "/* Estimator-specific style */\n",
       "\n",
       "/* Colorize estimator box */\n",
       "#sk-container-id-1 div.sk-estimator input.sk-toggleable__control:checked~label.sk-toggleable__label {\n",
       "  /* unfitted */\n",
       "  background-color: var(--sklearn-color-unfitted-level-2);\n",
       "}\n",
       "\n",
       "#sk-container-id-1 div.sk-estimator.fitted input.sk-toggleable__control:checked~label.sk-toggleable__label {\n",
       "  /* fitted */\n",
       "  background-color: var(--sklearn-color-fitted-level-2);\n",
       "}\n",
       "\n",
       "#sk-container-id-1 div.sk-label label.sk-toggleable__label,\n",
       "#sk-container-id-1 div.sk-label label {\n",
       "  /* The background is the default theme color */\n",
       "  color: var(--sklearn-color-text-on-default-background);\n",
       "}\n",
       "\n",
       "/* On hover, darken the color of the background */\n",
       "#sk-container-id-1 div.sk-label:hover label.sk-toggleable__label {\n",
       "  color: var(--sklearn-color-text);\n",
       "  background-color: var(--sklearn-color-unfitted-level-2);\n",
       "}\n",
       "\n",
       "/* Label box, darken color on hover, fitted */\n",
       "#sk-container-id-1 div.sk-label.fitted:hover label.sk-toggleable__label.fitted {\n",
       "  color: var(--sklearn-color-text);\n",
       "  background-color: var(--sklearn-color-fitted-level-2);\n",
       "}\n",
       "\n",
       "/* Estimator label */\n",
       "\n",
       "#sk-container-id-1 div.sk-label label {\n",
       "  font-family: monospace;\n",
       "  font-weight: bold;\n",
       "  display: inline-block;\n",
       "  line-height: 1.2em;\n",
       "}\n",
       "\n",
       "#sk-container-id-1 div.sk-label-container {\n",
       "  text-align: center;\n",
       "}\n",
       "\n",
       "/* Estimator-specific */\n",
       "#sk-container-id-1 div.sk-estimator {\n",
       "  font-family: monospace;\n",
       "  border: 1px dotted var(--sklearn-color-border-box);\n",
       "  border-radius: 0.25em;\n",
       "  box-sizing: border-box;\n",
       "  margin-bottom: 0.5em;\n",
       "  /* unfitted */\n",
       "  background-color: var(--sklearn-color-unfitted-level-0);\n",
       "}\n",
       "\n",
       "#sk-container-id-1 div.sk-estimator.fitted {\n",
       "  /* fitted */\n",
       "  background-color: var(--sklearn-color-fitted-level-0);\n",
       "}\n",
       "\n",
       "/* on hover */\n",
       "#sk-container-id-1 div.sk-estimator:hover {\n",
       "  /* unfitted */\n",
       "  background-color: var(--sklearn-color-unfitted-level-2);\n",
       "}\n",
       "\n",
       "#sk-container-id-1 div.sk-estimator.fitted:hover {\n",
       "  /* fitted */\n",
       "  background-color: var(--sklearn-color-fitted-level-2);\n",
       "}\n",
       "\n",
       "/* Specification for estimator info (e.g. \"i\" and \"?\") */\n",
       "\n",
       "/* Common style for \"i\" and \"?\" */\n",
       "\n",
       ".sk-estimator-doc-link,\n",
       "a:link.sk-estimator-doc-link,\n",
       "a:visited.sk-estimator-doc-link {\n",
       "  float: right;\n",
       "  font-size: smaller;\n",
       "  line-height: 1em;\n",
       "  font-family: monospace;\n",
       "  background-color: var(--sklearn-color-background);\n",
       "  border-radius: 1em;\n",
       "  height: 1em;\n",
       "  width: 1em;\n",
       "  text-decoration: none !important;\n",
       "  margin-left: 1ex;\n",
       "  /* unfitted */\n",
       "  border: var(--sklearn-color-unfitted-level-1) 1pt solid;\n",
       "  color: var(--sklearn-color-unfitted-level-1);\n",
       "}\n",
       "\n",
       ".sk-estimator-doc-link.fitted,\n",
       "a:link.sk-estimator-doc-link.fitted,\n",
       "a:visited.sk-estimator-doc-link.fitted {\n",
       "  /* fitted */\n",
       "  border: var(--sklearn-color-fitted-level-1) 1pt solid;\n",
       "  color: var(--sklearn-color-fitted-level-1);\n",
       "}\n",
       "\n",
       "/* On hover */\n",
       "div.sk-estimator:hover .sk-estimator-doc-link:hover,\n",
       ".sk-estimator-doc-link:hover,\n",
       "div.sk-label-container:hover .sk-estimator-doc-link:hover,\n",
       ".sk-estimator-doc-link:hover {\n",
       "  /* unfitted */\n",
       "  background-color: var(--sklearn-color-unfitted-level-3);\n",
       "  color: var(--sklearn-color-background);\n",
       "  text-decoration: none;\n",
       "}\n",
       "\n",
       "div.sk-estimator.fitted:hover .sk-estimator-doc-link.fitted:hover,\n",
       ".sk-estimator-doc-link.fitted:hover,\n",
       "div.sk-label-container:hover .sk-estimator-doc-link.fitted:hover,\n",
       ".sk-estimator-doc-link.fitted:hover {\n",
       "  /* fitted */\n",
       "  background-color: var(--sklearn-color-fitted-level-3);\n",
       "  color: var(--sklearn-color-background);\n",
       "  text-decoration: none;\n",
       "}\n",
       "\n",
       "/* Span, style for the box shown on hovering the info icon */\n",
       ".sk-estimator-doc-link span {\n",
       "  display: none;\n",
       "  z-index: 9999;\n",
       "  position: relative;\n",
       "  font-weight: normal;\n",
       "  right: .2ex;\n",
       "  padding: .5ex;\n",
       "  margin: .5ex;\n",
       "  width: min-content;\n",
       "  min-width: 20ex;\n",
       "  max-width: 50ex;\n",
       "  color: var(--sklearn-color-text);\n",
       "  box-shadow: 2pt 2pt 4pt #999;\n",
       "  /* unfitted */\n",
       "  background: var(--sklearn-color-unfitted-level-0);\n",
       "  border: .5pt solid var(--sklearn-color-unfitted-level-3);\n",
       "}\n",
       "\n",
       ".sk-estimator-doc-link.fitted span {\n",
       "  /* fitted */\n",
       "  background: var(--sklearn-color-fitted-level-0);\n",
       "  border: var(--sklearn-color-fitted-level-3);\n",
       "}\n",
       "\n",
       ".sk-estimator-doc-link:hover span {\n",
       "  display: block;\n",
       "}\n",
       "\n",
       "/* \"?\"-specific style due to the `<a>` HTML tag */\n",
       "\n",
       "#sk-container-id-1 a.estimator_doc_link {\n",
       "  float: right;\n",
       "  font-size: 1rem;\n",
       "  line-height: 1em;\n",
       "  font-family: monospace;\n",
       "  background-color: var(--sklearn-color-background);\n",
       "  border-radius: 1rem;\n",
       "  height: 1rem;\n",
       "  width: 1rem;\n",
       "  text-decoration: none;\n",
       "  /* unfitted */\n",
       "  color: var(--sklearn-color-unfitted-level-1);\n",
       "  border: var(--sklearn-color-unfitted-level-1) 1pt solid;\n",
       "}\n",
       "\n",
       "#sk-container-id-1 a.estimator_doc_link.fitted {\n",
       "  /* fitted */\n",
       "  border: var(--sklearn-color-fitted-level-1) 1pt solid;\n",
       "  color: var(--sklearn-color-fitted-level-1);\n",
       "}\n",
       "\n",
       "/* On hover */\n",
       "#sk-container-id-1 a.estimator_doc_link:hover {\n",
       "  /* unfitted */\n",
       "  background-color: var(--sklearn-color-unfitted-level-3);\n",
       "  color: var(--sklearn-color-background);\n",
       "  text-decoration: none;\n",
       "}\n",
       "\n",
       "#sk-container-id-1 a.estimator_doc_link.fitted:hover {\n",
       "  /* fitted */\n",
       "  background-color: var(--sklearn-color-fitted-level-3);\n",
       "}\n",
       "</style><div id=\"sk-container-id-1\" class=\"sk-top-container\"><div class=\"sk-text-repr-fallback\"><pre>LogisticRegression()</pre><b>In a Jupyter environment, please rerun this cell to show the HTML representation or trust the notebook. <br />On GitHub, the HTML representation is unable to render, please try loading this page with nbviewer.org.</b></div><div class=\"sk-container\" hidden><div class=\"sk-item\"><div class=\"sk-estimator fitted sk-toggleable\"><input class=\"sk-toggleable__control sk-hidden--visually\" id=\"sk-estimator-id-1\" type=\"checkbox\" checked><label for=\"sk-estimator-id-1\" class=\"sk-toggleable__label fitted sk-toggleable__label-arrow fitted\">&nbsp;&nbsp;LogisticRegression<a class=\"sk-estimator-doc-link fitted\" rel=\"noreferrer\" target=\"_blank\" href=\"https://scikit-learn.org/1.5/modules/generated/sklearn.linear_model.LogisticRegression.html\">?<span>Documentation for LogisticRegression</span></a><span class=\"sk-estimator-doc-link fitted\">i<span>Fitted</span></span></label><div class=\"sk-toggleable__content fitted\"><pre>LogisticRegression()</pre></div> </div></div></div></div>"
      ],
      "text/plain": [
       "LogisticRegression()"
      ]
     },
     "execution_count": 56,
     "metadata": {},
     "output_type": "execute_result"
    }
   ],
   "source": [
    "from sklearn.linear_model import LogisticRegression\n",
    "\n",
    "model = LogisticRegression()\n",
    "model.fit(X_train_tfidf, y_train)"
   ]
  },
  {
   "cell_type": "code",
   "execution_count": 57,
   "metadata": {},
   "outputs": [],
   "source": [
    "y_pred = model.predict(X_test_tfidf)"
   ]
  },
  {
   "cell_type": "code",
   "execution_count": 58,
   "metadata": {},
   "outputs": [
    {
     "name": "stdout",
     "output_type": "stream",
     "text": [
      "0.9221750182512248\n"
     ]
    }
   ],
   "source": [
    "from sklearn.metrics import classification_report, accuracy_score, confusion_matrix\n",
    "\n",
    "acc=accuracy_score(y_test,y_pred)\n",
    "print(acc)"
   ]
  },
  {
   "cell_type": "code",
   "execution_count": 59,
   "metadata": {},
   "outputs": [
    {
     "name": "stdout",
     "output_type": "stream",
     "text": [
      "Classification Report:\n",
      "               precision    recall  f1-score   support\n",
      "\n",
      "           1       0.75      0.54      0.62     12356\n",
      "           3       0.83      0.35      0.49      1559\n",
      "           5       0.94      0.98      0.96     99776\n",
      "\n",
      "    accuracy                           0.92    113691\n",
      "   macro avg       0.84      0.62      0.69    113691\n",
      "weighted avg       0.92      0.92      0.92    113691\n",
      "\n"
     ]
    }
   ],
   "source": [
    "from sklearn.metrics import classification_report, accuracy_score, confusion_matrix\n",
    "\n",
    "y_pred = model.predict(X_test_tfidf)\n",
    "\n",
    "print(\"Classification Report:\\n\", classification_report(y_test, y_pred))"
   ]
  },
  {
   "cell_type": "code",
   "execution_count": 36,
   "metadata": {
    "execution": {
     "iopub.execute_input": "2024-12-23T20:23:06.795437Z",
     "iopub.status.busy": "2024-12-23T20:23:06.795102Z",
     "iopub.status.idle": "2024-12-23T20:23:11.656635Z",
     "shell.execute_reply": "2024-12-23T20:23:11.655898Z",
     "shell.execute_reply.started": "2024-12-23T20:23:06.795400Z"
    }
   },
   "outputs": [
    {
     "name": "stdout",
     "output_type": "stream",
     "text": [
      "Enter the sentence index you want to analyze from the dataset: 235468\n",
      "\n",
      "Analysis Results:\n",
      "Text: my  year old son loves these cereal bars and the cherry vanilla is the best flavor if youre used to eating a lot of junk foods that have altered your taste buds then you may not like the taste of these cereal bars but i wanted a cereal bar for my son with more fiber protein and flavor these were perfect the strawberry and blackberry flavors arent sweet enough for me but my son loves all of them i havent found these at my local safeway in a long time so maybe this flavor is discontinued which explains the greedy price\n",
      "Original Stars: 4\n",
      "Original Sentiment: Positive\n",
      "Predicted Stars: 5\n",
      "Predicted Sentiment: Positive\n",
      "\n",
      "Comparison Results:\n",
      "Stars Match: Mismatch\n",
      "Sentiment Match: Match\n",
      "\n",
      "There is a discrepancy between the predictions and the original data.\n"
     ]
    }
   ],
   "source": [
    "# Select a sentence from the dataset based on user input\n",
    "user_input_index = int(input(\"Enter the sentence index you want to analyze from the dataset: \"))\n",
    "\n",
    "# Validate the input\n",
    "if user_input_index < 0 or user_input_index >= len(df):\n",
    "    print(\"Index out of range. Please enter a valid index.\")\n",
    "else:\n",
    "    # Extract the original text\n",
    "    original_text = df.iloc[user_input_index]['cleaned_text']\n",
    "\n",
    "    # Extract the original score\n",
    "    original_score = df.iloc[user_input_index]['Score']\n",
    "\n",
    "    # Extract the original sentiment\n",
    "    original_sentiment = df.iloc[user_input_index]['original_sentiment']\n",
    "\n",
    "    # Predict stars based on calculated sentiment\n",
    "    generated_Score = df.iloc[user_input_index]['generated_Score']\n",
    "\n",
    "    # Predict sentiment based on the sentence\n",
    "    sentiment_label = df.iloc[user_input_index]['sentiment_label']\n",
    "\n",
    "    # Display the results\n",
    "    print(\"\\nAnalysis Results:\")\n",
    "    print(f\"Text: {original_text}\")\n",
    "    print(f\"Original Stars: {original_score}\")\n",
    "    print(f\"Original Sentiment: {original_sentiment}\")\n",
    "    print(f\"Predicted Stars: {generated_Score}\")\n",
    "    print(f\"Predicted Sentiment: {sentiment_label}\")\n",
    "\n",
    "    # Compare stars and sentiment\n",
    "    stars_match = \"Match\" if original_score == generated_Score else \"Mismatch\"\n",
    "    sentiment_match = \"Match\" if original_sentiment == sentiment_label else \"Mismatch\"\n",
    "\n",
    "    print(\"\\nComparison Results:\")\n",
    "    print(f\"Stars Match: {stars_match}\")\n",
    "    print(f\"Sentiment Match: {sentiment_match}\")\n",
    "\n",
    "    # Check overall match\n",
    "    if stars_match == \"Match\" and sentiment_match == \"Match\":\n",
    "        print(\"\\nThe prediction matches perfectly with the original data.\")\n",
    "    else:\n",
    "        print(\"\\nThere is a discrepancy between the predictions and the original data.\")"
   ]
  },
  {
   "cell_type": "code",
   "execution_count": 36,
   "metadata": {},
   "outputs": [
    {
     "data": {
      "text/html": [
       "<div>\n",
       "<style scoped>\n",
       "    .dataframe tbody tr th:only-of-type {\n",
       "        vertical-align: middle;\n",
       "    }\n",
       "\n",
       "    .dataframe tbody tr th {\n",
       "        vertical-align: top;\n",
       "    }\n",
       "\n",
       "    .dataframe thead th {\n",
       "        text-align: right;\n",
       "    }\n",
       "</style>\n",
       "<table border=\"1\" class=\"dataframe\">\n",
       "  <thead>\n",
       "    <tr style=\"text-align: right;\">\n",
       "      <th></th>\n",
       "      <th>Score</th>\n",
       "      <th>Text</th>\n",
       "      <th>cleaned_text</th>\n",
       "      <th>Polarity_score</th>\n",
       "      <th>sentiment_label</th>\n",
       "      <th>original_sentiment</th>\n",
       "      <th>match</th>\n",
       "      <th>generated_Score</th>\n",
       "      <th>original_Score</th>\n",
       "    </tr>\n",
       "  </thead>\n",
       "  <tbody>\n",
       "    <tr>\n",
       "      <th>0</th>\n",
       "      <td>5</td>\n",
       "      <td>I have bought several of the Vitality canned d...</td>\n",
       "      <td>i have bought several of the vitality canned d...</td>\n",
       "      <td>0.9441</td>\n",
       "      <td>Positive</td>\n",
       "      <td>Positive</td>\n",
       "      <td>True</td>\n",
       "      <td>5</td>\n",
       "      <td>5</td>\n",
       "    </tr>\n",
       "    <tr>\n",
       "      <th>1</th>\n",
       "      <td>1</td>\n",
       "      <td>Product arrived labeled as Jumbo Salted Peanut...</td>\n",
       "      <td>product arrived labeled as jumbo salted peanut...</td>\n",
       "      <td>-0.5664</td>\n",
       "      <td>Negative</td>\n",
       "      <td>Negative</td>\n",
       "      <td>True</td>\n",
       "      <td>1</td>\n",
       "      <td>1</td>\n",
       "    </tr>\n",
       "    <tr>\n",
       "      <th>2</th>\n",
       "      <td>4</td>\n",
       "      <td>This is a confection that has been around a fe...</td>\n",
       "      <td>this is a confection that has been around a fe...</td>\n",
       "      <td>0.8265</td>\n",
       "      <td>Positive</td>\n",
       "      <td>Positive</td>\n",
       "      <td>True</td>\n",
       "      <td>5</td>\n",
       "      <td>5</td>\n",
       "    </tr>\n",
       "    <tr>\n",
       "      <th>3</th>\n",
       "      <td>2</td>\n",
       "      <td>If you are looking for the secret ingredient i...</td>\n",
       "      <td>if you are looking for the secret ingredient i...</td>\n",
       "      <td>0.0000</td>\n",
       "      <td>Neutral</td>\n",
       "      <td>Negative</td>\n",
       "      <td>False</td>\n",
       "      <td>3</td>\n",
       "      <td>1</td>\n",
       "    </tr>\n",
       "    <tr>\n",
       "      <th>4</th>\n",
       "      <td>5</td>\n",
       "      <td>Great taffy at a great price.  There was a wid...</td>\n",
       "      <td>great taffy at a great price.  there was a wid...</td>\n",
       "      <td>0.9468</td>\n",
       "      <td>Positive</td>\n",
       "      <td>Positive</td>\n",
       "      <td>True</td>\n",
       "      <td>5</td>\n",
       "      <td>5</td>\n",
       "    </tr>\n",
       "  </tbody>\n",
       "</table>\n",
       "</div>"
      ],
      "text/plain": [
       "   Score                                               Text  \\\n",
       "0      5  I have bought several of the Vitality canned d...   \n",
       "1      1  Product arrived labeled as Jumbo Salted Peanut...   \n",
       "2      4  This is a confection that has been around a fe...   \n",
       "3      2  If you are looking for the secret ingredient i...   \n",
       "4      5  Great taffy at a great price.  There was a wid...   \n",
       "\n",
       "                                        cleaned_text  Polarity_score  \\\n",
       "0  i have bought several of the vitality canned d...          0.9441   \n",
       "1  product arrived labeled as jumbo salted peanut...         -0.5664   \n",
       "2  this is a confection that has been around a fe...          0.8265   \n",
       "3  if you are looking for the secret ingredient i...          0.0000   \n",
       "4  great taffy at a great price.  there was a wid...          0.9468   \n",
       "\n",
       "  sentiment_label original_sentiment  match  generated_Score  original_Score  \n",
       "0        Positive           Positive   True                5               5  \n",
       "1        Negative           Negative   True                1               1  \n",
       "2        Positive           Positive   True                5               5  \n",
       "3         Neutral           Negative  False                3               1  \n",
       "4        Positive           Positive   True                5               5  "
      ]
     },
     "execution_count": 36,
     "metadata": {},
     "output_type": "execute_result"
    }
   ],
   "source": [
    "df.head()"
   ]
  },
  {
   "cell_type": "code",
   "execution_count": 35,
   "metadata": {
    "execution": {
     "iopub.execute_input": "2024-12-23T20:23:41.287967Z",
     "iopub.status.busy": "2024-12-23T20:23:41.287651Z",
     "iopub.status.idle": "2024-12-23T20:23:46.006396Z",
     "shell.execute_reply": "2024-12-23T20:23:46.005648Z",
     "shell.execute_reply.started": "2024-12-23T20:23:41.287941Z"
    }
   },
   "outputs": [
    {
     "name": "stdout",
     "output_type": "stream",
     "text": [
      "Enter the sentence index you want to analyze from the dataset: 325987\n",
      "\n",
      "Analysis Results:\n",
      "Text: at a time when local crops are failing due to the drought i'm stocking up on canned vegetables. this is a tasty and economical choice. it's not like eating fresh corn on the cob but will do just fine in a pinch. all cans were in great shape, but if they weren't customer service would get a call about my dissatisfaction.\n",
      "Original Stars: 5\n",
      "Original Sentiment: Positive\n",
      "Predicted Stars: 5\n",
      "Predicted Sentiment: Positive\n",
      "\n",
      "Comparison Results:\n",
      "Stars Match: Match\n",
      "Sentiment Match: Match\n",
      "\n",
      "The prediction matches perfectly with the original data.\n"
     ]
    }
   ],
   "source": [
    "# Select a sentence from the dataset based on user input\n",
    "user_input_index = int(input(\"Enter the sentence index you want to analyze from the dataset: \"))\n",
    "\n",
    "# Validate the input\n",
    "if user_input_index < 0 or user_input_index >= len(df):\n",
    "    print(\"Index out of range. Please enter a valid index.\")\n",
    "else:\n",
    "    # Extract the original text\n",
    "    original_text = df.iloc[user_input_index]['cleaned_text']\n",
    "\n",
    "    # Extract the original score from original_Score column\n",
    "    original_score = df.iloc[user_input_index]['original_Score']\n",
    "\n",
    "    # Extract the original sentiment\n",
    "    original_sentiment = df.iloc[user_input_index]['original_sentiment']\n",
    "\n",
    "  # Predict stars based on calculated sentiment\n",
    "    generated_Score = df.iloc[user_input_index]['generated_Score']\n",
    "\n",
    "    # Predict sentiment based on the sentence\n",
    "    sentiment_label = df.iloc[user_input_index]['sentiment_label']\n",
    "\n",
    "    # Display the results\n",
    "    print(\"\\nAnalysis Results:\")\n",
    "    print(f\"Text: {original_text}\")\n",
    "    print(f\"Original Stars: {original_score}\")\n",
    "    print(f\"Original Sentiment: {original_sentiment}\")\n",
    "    print(f\"Predicted Stars: {generated_Score}\")\n",
    "    print(f\"Predicted Sentiment: {sentiment_label}\")\n",
    "\n",
    "    # Compare stars and sentiment\n",
    "    stars_match = \"Match\" if original_score == generated_Score else \"Mismatch\"\n",
    "    sentiment_match = \"Match\" if original_sentiment == sentiment_label else \"Mismatch\"\n",
    "\n",
    "    print(\"\\nComparison Results:\")\n",
    "    print(f\"Stars Match: {stars_match}\")\n",
    "    print(f\"Sentiment Match: {sentiment_match}\")\n",
    "\n",
    "    # Check overall match\n",
    "    if stars_match == \"Match\" and sentiment_match == \"Match\":\n",
    "        print(\"\\nThe prediction matches perfectly with the original data.\")\n",
    "    else:\n",
    "        print(\"\\nThere is a discrepancy between the predictions and the original data.\")\n"
   ]
  },
  {
   "cell_type": "code",
   "execution_count": 60,
   "metadata": {},
   "outputs": [
    {
     "data": {
      "text/plain": [
       "['tfidf_vectorizer.pkl']"
      ]
     },
     "execution_count": 60,
     "metadata": {},
     "output_type": "execute_result"
    }
   ],
   "source": [
    "import joblib\n",
    "\n",
    "# After training the model\n",
    "joblib.dump(model, 'logistic_regression_model.pkl')   # Save model\n",
    "joblib.dump(tfidf, 'tfidf_vectorizer.pkl') "
   ]
  },
  {
   "cell_type": "code",
   "execution_count": null,
   "metadata": {},
   "outputs": [],
   "source": []
  }
 ],
 "metadata": {
  "kaggle": {
   "accelerator": "nvidiaTeslaT4",
   "dataSources": [
    {
     "datasetId": 6282750,
     "sourceId": 10172503,
     "sourceType": "datasetVersion"
    }
   ],
   "dockerImageVersionId": 30823,
   "isGpuEnabled": true,
   "isInternetEnabled": true,
   "language": "python",
   "sourceType": "notebook"
  },
  "kernelspec": {
   "display_name": "Python 3 (ipykernel)",
   "language": "python",
   "name": "python3"
  },
  "language_info": {
   "codemirror_mode": {
    "name": "ipython",
    "version": 3
   },
   "file_extension": ".py",
   "mimetype": "text/x-python",
   "name": "python",
   "nbconvert_exporter": "python",
   "pygments_lexer": "ipython3",
   "version": "3.11.5"
  }
 },
 "nbformat": 4,
 "nbformat_minor": 4
}
